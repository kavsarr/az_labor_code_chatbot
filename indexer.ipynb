{
 "cells": [
  {
   "cell_type": "code",
   "execution_count": 65,
   "id": "5422e9a9",
   "metadata": {},
   "outputs": [],
   "source": [
    "import fitz\n",
    "\n",
    "def extract_text_from_pdf(pdf_path):\n",
    "    text = \"\"\n",
    "    with fitz.open(pdf_path) as doc:\n",
    "        for page in doc:\n",
    "            text += page.get_text()\n",
    "    return text\n",
    "\n",
    "pdf_path = \"files/labor_code.pdf\"\n",
    "text = extract_text_from_pdf(pdf_path)"
   ]
  },
  {
   "cell_type": "code",
   "execution_count": 67,
   "id": "7cd4b2c7",
   "metadata": {},
   "outputs": [
    {
     "name": "stdout",
     "output_type": "stream",
     "text": [
      "PDF text extraction complete.\n"
     ]
    }
   ],
   "source": [
    "with open(\"files/labor_code.txt\", \"w\", encoding=\"utf-8\") as f:\n",
    "    f.write(text)\n",
    "\n",
    "print(\"PDF text extraction complete.\")"
   ]
  },
  {
   "cell_type": "code",
   "execution_count": 68,
   "id": "c0d90885",
   "metadata": {},
   "outputs": [],
   "source": [
    "import re\n",
    "\n",
    "pattern = r\"\\n.+fəsil\\n\"\n",
    "\n",
    "matches = [match.start() for match in re.finditer(pattern, text)]"
   ]
  },
  {
   "cell_type": "code",
   "execution_count": 69,
   "id": "8936a5f4",
   "metadata": {},
   "outputs": [
    {
     "data": {
      "text/plain": [
       "344402"
      ]
     },
     "execution_count": 69,
     "metadata": {},
     "output_type": "execute_result"
    }
   ],
   "source": [
    "pattern = r\"\\nƏLAVƏLƏR\\n\"\n",
    "\n",
    "match = re.search(pattern, text)\n",
    "\n",
    "end_of_txt = match.start() if match else None\n",
    "end_of_txt"
   ]
  },
  {
   "cell_type": "code",
   "execution_count": 70,
   "id": "54c1e5e6",
   "metadata": {},
   "outputs": [
    {
     "name": "stdout",
     "output_type": "stream",
     "text": [
      "Saved 325 articles to articles.json\n"
     ]
    }
   ],
   "source": [
    "import re\n",
    "import json\n",
    "\n",
    "all_articles = []\n",
    "article_index = 0  # Unique index for each maddə\n",
    "\n",
    "for i in range(len(matches)):\n",
    "    start = matches[i]\n",
    "    end = matches[i+1] if i+1<len(matches) else end_of_txt\n",
    "    \n",
    "    fesil = text[start: end]\n",
    "    \n",
    "    pattern = r\"\\n.+fəsil\\n\"\n",
    "    match = re.search(pattern, fesil)\n",
    "    fesil_heading = match.group().strip() if match else \"N/A\" # metadata\n",
    "    \n",
    "    pattern = r\"fəsil(.*?)Maddə\"\n",
    "    match = re.search(pattern, fesil, re.DOTALL | re.IGNORECASE)\n",
    "    fesil_name = match.group(1).strip().replace('\\n', \" \") if match else \"N/A\" # metadata\n",
    "    \n",
    "    pattern = r\"Maddə\\s+(\\d|-)+\\.\"\n",
    "    madde_matches = [match.start() for match in re.finditer(pattern, fesil)]\n",
    "    \n",
    "    for j in range(len(madde_matches)):\n",
    "        start = madde_matches[j]\n",
    "        end = madde_matches[j+1] if j+1<len(madde_matches) else len(fesil)\n",
    "        \n",
    "        madde = fesil[start: end]\n",
    "        \n",
    "        pattern = r\"Maddə\\s+(\\d|-)+\\.\"\n",
    "        match = re.search(pattern, madde)\n",
    "        madde_heading = match.group().strip().replace('\\n', \"\") if match else \"N/A\" # metadata\n",
    "        \n",
    "        pattern = r\"Maddə\\s+(\\d|-)+\\.(.*?)\\n\\s\"\n",
    "        match = re.search(pattern, madde, re.DOTALL | re.IGNORECASE)\n",
    "        madde_name = match.group(2).strip().replace('\\n', \" \") if match else \"N/A\" # metadata\n",
    "        \n",
    "        content_start = match.end() if match else 0\n",
    "        madde_context = madde[content_start:].strip() # context \n",
    "        \n",
    "        all_articles.append({\n",
    "            \"index\": article_index,\n",
    "            \"chapter_heading\": fesil_heading,\n",
    "            \"chapter_title\": fesil_name,\n",
    "            \"article_heading\": madde_heading,\n",
    "            \"article_title\": madde_name,\n",
    "            \"article_body\": madde_context\n",
    "        })\n",
    "\n",
    "        article_index += 1\n",
    "\n",
    "with open(\"articles.json\", \"w\", encoding=\"utf-8\") as f:\n",
    "    json.dump(all_articles, f, ensure_ascii=False, indent=2)\n",
    "\n",
    "print(f\"Saved {len(all_articles)} articles to articles.json\")       "
   ]
  },
  {
   "cell_type": "code",
   "execution_count": null,
   "id": "45aa69ca",
   "metadata": {},
   "outputs": [],
   "source": [
    "rag_contexts = []\n",
    "\n",
    "for i in all_articles:\n",
    "    context = f\"{i['chapter_heading']} {i['chapter_title']}\\n\\n{i['article_heading']} {i['article_title']}\\n\\n{i['article_body']}\"\n",
    "    rag_contexts.append(context)"
   ]
  },
  {
   "cell_type": "code",
   "execution_count": 73,
   "id": "c1f187e2",
   "metadata": {},
   "outputs": [
    {
     "name": "stdout",
     "output_type": "stream",
     "text": [
      "325\n",
      "325\n"
     ]
    }
   ],
   "source": [
    "from components.embedder import BGEEmbedder\n",
    "from components.vector_db import FaissVectorDB\n",
    "\n",
    "db = FaissVectorDB(dim=1024)\n",
    "embedder = BGEEmbedder()\n",
    "\n",
    "embeddings = embedder.embed(rag_contexts)\n",
    "print(len(rag_contexts))\n",
    "print(len(embeddings))\n",
    "\n",
    "db.upload(embeddings)\n",
    "\n",
    "db.save()"
   ]
  },
  {
   "cell_type": "code",
   "execution_count": 74,
   "id": "b16bbda1",
   "metadata": {},
   "outputs": [
    {
     "data": {
      "text/plain": [
       "[{'index': 305, 'distance': 0.649273157119751},\n",
       " {'index': 188, 'distance': 0.9579514265060425},\n",
       " {'index': 183, 'distance': 0.9814552068710327}]"
      ]
     },
     "execution_count": 74,
     "metadata": {},
     "output_type": "execute_result"
    }
   ],
   "source": [
    "query = embedder.embed_sentence(\"İddianın məbləğində və onun təmin olunmasında məhdudiyyətin olmaması\")\n",
    "query = query.reshape(1, -1)\n",
    "\n",
    "db.search(query_embedding=query, top_k=3)"
   ]
  }
 ],
 "metadata": {
  "kernelspec": {
   "display_name": ".venv",
   "language": "python",
   "name": "python3"
  },
  "language_info": {
   "codemirror_mode": {
    "name": "ipython",
    "version": 3
   },
   "file_extension": ".py",
   "mimetype": "text/x-python",
   "name": "python",
   "nbconvert_exporter": "python",
   "pygments_lexer": "ipython3",
   "version": "3.12.3"
  }
 },
 "nbformat": 4,
 "nbformat_minor": 5
}
